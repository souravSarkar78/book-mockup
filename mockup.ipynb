{
 "cells": [
  {
   "cell_type": "code",
   "execution_count": 1,
   "id": "1938569e",
   "metadata": {},
   "outputs": [],
   "source": [
    "import cv2\n",
    "import numpy as np"
   ]
  },
  {
   "cell_type": "code",
   "execution_count": 2,
   "id": "fc654687",
   "metadata": {},
   "outputs": [],
   "source": [
    "def show(img, offset=1):\n",
    "    shape = img.shape\n",
    "#     offset = 1\n",
    "    s = 0\n",
    "    if shape[0] > 1000:\n",
    "        s = int(10/(int(str(shape[0])[0])+offset))*0.1\n",
    "    elif shape[1] > 1000:\n",
    "        s = int(10/(int(str(shape[1])[0])+offset))*0.1\n",
    "    if s:\n",
    "        img = cv2.resize(img, None, fx=s, fy=s)\n",
    "    cv2.imshow(\"Img\", img)\n",
    "    cv2.waitKey(0)\n",
    "    cv2.destroyAllWindows()"
   ]
  },
  {
   "cell_type": "code",
   "execution_count": 3,
   "id": "22a98dce",
   "metadata": {},
   "outputs": [],
   "source": [
    "def biggestContour(contours):\n",
    "    biggest = np.array([])\n",
    "    max_area = 0\n",
    "    for i in contours:\n",
    "        area = cv2.contourArea(i)\n",
    "        if area > 5000:\n",
    "            peri = cv2.arcLength(i, True)\n",
    "            approx = cv2.approxPolyDP(i, 0.02 * peri, True)\n",
    "            if area > max_area and len(approx) == 4:\n",
    "                biggest = approx\n",
    "                max_area = area\n",
    "    return biggest,max_area\n",
    "\n",
    "def drawRectangle(img,biggest,thickness):\n",
    "    cv2.line(img, (biggest[0][0][0], biggest[0][0][1]), (biggest[1][0][0], biggest[1][0][1]), (0, 0, 255), thickness)\n",
    "    cv2.line(img, (biggest[0][0][0], biggest[0][0][1]), (biggest[2][0][0], biggest[2][0][1]), (0, 0, 255), thickness)\n",
    "    cv2.line(img, (biggest[3][0][0], biggest[3][0][1]), (biggest[2][0][0], biggest[2][0][1]), (0, 0, 255), thickness)\n",
    "    cv2.line(img, (biggest[3][0][0], biggest[3][0][1]), (biggest[1][0][0], biggest[1][0][1]), (0, 0, 255), thickness)\n",
    " \n",
    "    return img\n",
    "\n",
    "def reorder(myPoints):\n",
    " \n",
    "    myPoints = myPoints.reshape((4, 2))\n",
    "    myPointsNew = np.zeros((4, 1, 2), dtype=np.int32)\n",
    "    add = myPoints.sum(1)\n",
    " \n",
    "    myPointsNew[0] = myPoints[np.argmin(add)]\n",
    "    myPointsNew[3] =myPoints[np.argmax(add)]\n",
    "    diff = np.diff(myPoints, axis=1)\n",
    "    myPointsNew[1] =myPoints[np.argmin(diff)]\n",
    "    myPointsNew[2] = myPoints[np.argmax(diff)]\n",
    " \n",
    "    return myPointsNew"
   ]
  },
  {
   "cell_type": "code",
   "execution_count": 3,
   "id": "6b012b46",
   "metadata": {},
   "outputs": [],
   "source": [
    "base = cv2.imread('2.jpg')\n",
    "cover = cv2.imread('c5.jpg')"
   ]
  },
  {
   "cell_type": "code",
   "execution_count": 4,
   "id": "015e1f41",
   "metadata": {},
   "outputs": [
    {
     "data": {
      "text/plain": [
       "(2560, 1872, 3)"
      ]
     },
     "execution_count": 4,
     "metadata": {},
     "output_type": "execute_result"
    }
   ],
   "source": [
    "cover.shape"
   ]
  },
  {
   "cell_type": "code",
   "execution_count": 6,
   "id": "a3cf6a88",
   "metadata": {},
   "outputs": [],
   "source": [
    "cover = cv2.rotate(cover, cv2.ROTATE_90_COUNTERCLOCKWISE)"
   ]
  },
  {
   "cell_type": "code",
   "execution_count": 5,
   "id": "729137d1",
   "metadata": {},
   "outputs": [],
   "source": [
    "show(base)"
   ]
  },
  {
   "cell_type": "code",
   "execution_count": 13,
   "id": "44ffbe8f",
   "metadata": {},
   "outputs": [],
   "source": [
    "img = cover.copy()"
   ]
  },
  {
   "cell_type": "code",
   "execution_count": 14,
   "id": "ab58fc68",
   "metadata": {},
   "outputs": [
    {
     "name": "stdout",
     "output_type": "stream",
     "text": [
      "0\n"
     ]
    }
   ],
   "source": [
    "imgGray = cv2.cvtColor(cover, cv2.COLOR_BGR2GRAY)\n",
    "imgBlur = cv2.GaussianBlur(imgGray, (5, 5), 1) # ADD GAUSSIAN BLUR\n",
    "\n",
    "imgThreshold = cv2.Canny(imgBlur,50,500) # APPLY CANNY BLUR\n",
    "kernel = np.ones((5, 5))\n",
    "imgDial = cv2.dilate(imgThreshold, kernel, iterations=2) # APPLY DILATION\n",
    "imgThreshold = cv2.erode(imgDial, kernel, iterations=1)  # APPLY EROSION\n",
    "\n",
    "## FIND ALL COUNTOURS\n",
    "imgContours = img.copy() # COPY IMAGE FOR DISPLAY PURPOSES\n",
    "imgBigContour = img.copy() # COPY IMAGE FOR DISPLAY PURPOSES\n",
    "contours, hierarchy = cv2.findContours(imgThreshold, cv2.RETR_EXTERNAL, cv2.CHAIN_APPROX_SIMPLE) # FIND ALL CONTOURS\n",
    "cv2.drawContours(imgContours, contours, -1, (0, 0, 255), 10) # DRAW ALL DETECTED CONTOURS\n",
    " \n",
    "    \n",
    "# FIND THE BIGGEST COUNTOUR\n",
    "biggest, maxArea = biggestContour(contours) # FIND THE BIGGEST CONTOUR\n",
    "\n",
    "heightImg = 640\n",
    "widthImg  = 480\n",
    "print(biggest.size)\n",
    "if biggest.size != 0:\n",
    "    biggest=reorder(biggest)\n",
    "    cv2.drawContours(imgBigContour, biggest, -1, (0, 0, 255), 20) # DRAW THE BIGGEST CONTOUR\n",
    "    imgBigContour = drawRectangle(imgBigContour,biggest,2)\n",
    "    pts1 = np.float32(biggest) # PREPARE POINTS FOR WARP\n",
    "    pts2 = np.float32([[0, 0],[widthImg, 0], [0, heightImg],[widthImg, heightImg]]) # PREPARE POINTS FOR WARP\n",
    "    matrix = cv2.getPerspectiveTransform(pts1, pts2)\n",
    "    imgWarpColored = cv2.warpPerspective(img, matrix, (widthImg, heightImg))"
   ]
  },
  {
   "cell_type": "code",
   "execution_count": 15,
   "id": "5fd47c80",
   "metadata": {},
   "outputs": [],
   "source": [
    "# show(cover)\n",
    "show(imgBigContour)"
   ]
  },
  {
   "cell_type": "code",
   "execution_count": null,
   "id": "86f2c0dc",
   "metadata": {},
   "outputs": [],
   "source": []
  },
  {
   "cell_type": "code",
   "execution_count": 16,
   "id": "bf864a09",
   "metadata": {},
   "outputs": [],
   "source": [
    "resized_cover = cv2.resize(cover, (984, 1372))\n",
    "show(resized_cover)"
   ]
  },
  {
   "cell_type": "code",
   "execution_count": 17,
   "id": "b59ba9dc",
   "metadata": {},
   "outputs": [],
   "source": [
    "large_img = base.copy()\n",
    "small_img = resized_cover.copy()"
   ]
  },
  {
   "cell_type": "code",
   "execution_count": 18,
   "id": "b37ced55",
   "metadata": {},
   "outputs": [
    {
     "data": {
      "text/plain": [
       "array([[255, 255, 255],\n",
       "       [255, 255, 255],\n",
       "       [255, 255, 255],\n",
       "       ...,\n",
       "       [255, 255, 255],\n",
       "       [255, 255, 255],\n",
       "       [255, 255, 255]], dtype=uint8)"
      ]
     },
     "execution_count": 18,
     "metadata": {},
     "output_type": "execute_result"
    }
   ],
   "source": [
    "n = np.ones_like(small_img)\n",
    "n=n*255\n",
    "n[0]"
   ]
  },
  {
   "cell_type": "code",
   "execution_count": 19,
   "id": "4d1fa417",
   "metadata": {},
   "outputs": [],
   "source": [
    "dt = cv2.addWeighted( n, 0.1, small_img, 1, 0)\n",
    "show(dt)"
   ]
  },
  {
   "cell_type": "code",
   "execution_count": 20,
   "id": "36d20682",
   "metadata": {},
   "outputs": [],
   "source": [
    "def apply_brightness_contrast(input_img, brightness = 0, contrast = 0):\n",
    "    \n",
    "    if brightness != 0:\n",
    "        if brightness > 0:\n",
    "            shadow = brightness\n",
    "            highlight = 255\n",
    "        else:\n",
    "            shadow = 0\n",
    "            highlight = 255 + brightness\n",
    "        alpha_b = (highlight - shadow)/255\n",
    "        gamma_b = shadow\n",
    "        \n",
    "        buf = cv2.addWeighted(input_img, alpha_b, input_img, 0, gamma_b)\n",
    "    else:\n",
    "        buf = input_img.copy()\n",
    "    \n",
    "    if contrast != 0:\n",
    "        f = 131*(contrast + 127)/(127*(131-contrast))\n",
    "        alpha_c = f\n",
    "        gamma_c = 127*(1-f)\n",
    "        \n",
    "        buf = cv2.addWeighted(buf, alpha_c, buf, 0, gamma_c)\n",
    "\n",
    "    return buf"
   ]
  },
  {
   "cell_type": "code",
   "execution_count": 21,
   "id": "9bc9e012",
   "metadata": {},
   "outputs": [],
   "source": [
    "mask = np.ones_like(base)"
   ]
  },
  {
   "cell_type": "code",
   "execution_count": 22,
   "id": "7ab44bec",
   "metadata": {},
   "outputs": [],
   "source": [
    "k = apply_brightness_contrast(small_img, 70, 0)\n",
    "# show(k)"
   ]
  },
  {
   "cell_type": "code",
   "execution_count": 23,
   "id": "a967c570",
   "metadata": {},
   "outputs": [
    {
     "ename": "NameError",
     "evalue": "name 'insert_img' is not defined",
     "output_type": "error",
     "traceback": [
      "\u001b[0;31m---------------------------------------------------------------------------\u001b[0m",
      "\u001b[0;31mNameError\u001b[0m                                 Traceback (most recent call last)",
      "\u001b[0;32m<ipython-input-23-6279558a586d>\u001b[0m in \u001b[0;36m<module>\u001b[0;34m\u001b[0m\n\u001b[0;32m----> 1\u001b[0;31m \u001b[0mshow\u001b[0m\u001b[0;34m(\u001b[0m\u001b[0minsert_img\u001b[0m\u001b[0;34m)\u001b[0m\u001b[0;34m\u001b[0m\u001b[0;34m\u001b[0m\u001b[0m\n\u001b[0m",
      "\u001b[0;31mNameError\u001b[0m: name 'insert_img' is not defined"
     ]
    }
   ],
   "source": [
    "show(insert_img)"
   ]
  },
  {
   "cell_type": "code",
   "execution_count": 24,
   "id": "bfc50705",
   "metadata": {},
   "outputs": [],
   "source": [
    "insert_img = k.copy()\n",
    "\n",
    "x_offset=1007\n",
    "y_offset=304\n",
    "\n",
    "x_end = x_offset+small_img.shape[1]\n",
    "y_end = y_offset+small_img.shape[0]"
   ]
  },
  {
   "cell_type": "code",
   "execution_count": 25,
   "id": "d8e27e0b",
   "metadata": {},
   "outputs": [],
   "source": [
    "mask[y_offset:y_end, x_offset:x_end] = insert_img \n",
    "\n",
    "large_img[y_offset:y_end, x_offset:x_end] = insert_img \n",
    "show(large_img)"
   ]
  },
  {
   "cell_type": "code",
   "execution_count": 260,
   "id": "a165ae4a",
   "metadata": {},
   "outputs": [],
   "source": [
    "show(mask)"
   ]
  },
  {
   "cell_type": "code",
   "execution_count": 26,
   "id": "75d9c7fc",
   "metadata": {},
   "outputs": [],
   "source": [
    "alpha=0.4\n",
    "dt = cv2.addWeighted( base, alpha, mask, 1-alpha, 0) \n",
    "show(dt)"
   ]
  },
  {
   "cell_type": "code",
   "execution_count": 27,
   "id": "524757e5",
   "metadata": {},
   "outputs": [],
   "source": [
    "r = cv2.addWeighted( n, 0.1, small_img, 1, 0)"
   ]
  },
  {
   "cell_type": "code",
   "execution_count": 28,
   "id": "81975bae",
   "metadata": {},
   "outputs": [],
   "source": [
    "show(r)"
   ]
  },
  {
   "cell_type": "code",
   "execution_count": null,
   "id": "97bfdd59",
   "metadata": {},
   "outputs": [],
   "source": []
  }
 ],
 "metadata": {
  "kernelspec": {
   "display_name": "Python 3",
   "language": "python",
   "name": "python3"
  },
  "language_info": {
   "codemirror_mode": {
    "name": "ipython",
    "version": 3
   },
   "file_extension": ".py",
   "mimetype": "text/x-python",
   "name": "python",
   "nbconvert_exporter": "python",
   "pygments_lexer": "ipython3",
   "version": "3.7.10"
  }
 },
 "nbformat": 4,
 "nbformat_minor": 5
}
